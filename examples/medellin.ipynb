{
 "cells": [
  {
   "cell_type": "code",
   "execution_count": 1,
   "metadata": {},
   "outputs": [],
   "source": [
    "from urllib.request import urlopen\n",
    "import json\n",
    "import pandas as pd\n",
    "import numpy as np\n",
    "import plotly.express as px\n",
    "import plotly"
   ]
  },
  {
   "cell_type": "code",
   "execution_count": 2,
   "metadata": {},
   "outputs": [],
   "source": [
    "with urlopen('https://raw.githubusercontent.com/davidbetancur8/geojsons/master/medellin.json') as response:\n",
    "    geoJSON = json.load(response)\n",
    "\n",
    "deptos = [dpto[\"properties\"] for dpto in geoJSON[\"features\"]]\n",
    "df = pd.DataFrame(deptos).loc[:,[\"CODIGO\", \"NOMBRE\", \"IDENTIFICA\"]]\n",
    "df[\"cuenta\"] = np.random.randint(1, 30, df.shape[0])"
   ]
  },
  {
   "cell_type": "code",
   "execution_count": 3,
   "metadata": {},
   "outputs": [
    {
     "data": {
      "text/html": [
       "<div>\n",
       "<style scoped>\n",
       "    .dataframe tbody tr th:only-of-type {\n",
       "        vertical-align: middle;\n",
       "    }\n",
       "\n",
       "    .dataframe tbody tr th {\n",
       "        vertical-align: top;\n",
       "    }\n",
       "\n",
       "    .dataframe thead th {\n",
       "        text-align: right;\n",
       "    }\n",
       "</style>\n",
       "<table border=\"1\" class=\"dataframe\">\n",
       "  <thead>\n",
       "    <tr style=\"text-align: right;\">\n",
       "      <th></th>\n",
       "      <th>CODIGO</th>\n",
       "      <th>NOMBRE</th>\n",
       "      <th>IDENTIFICA</th>\n",
       "      <th>cuenta</th>\n",
       "    </tr>\n",
       "  </thead>\n",
       "  <tbody>\n",
       "    <tr>\n",
       "      <th>0</th>\n",
       "      <td>01</td>\n",
       "      <td>Popular</td>\n",
       "      <td>Comuna 1</td>\n",
       "      <td>13</td>\n",
       "    </tr>\n",
       "    <tr>\n",
       "      <th>1</th>\n",
       "      <td>02</td>\n",
       "      <td>Santa Cruz</td>\n",
       "      <td>Comuna 2</td>\n",
       "      <td>2</td>\n",
       "    </tr>\n",
       "    <tr>\n",
       "      <th>2</th>\n",
       "      <td>03</td>\n",
       "      <td>Manrique</td>\n",
       "      <td>Comuna 3</td>\n",
       "      <td>5</td>\n",
       "    </tr>\n",
       "    <tr>\n",
       "      <th>3</th>\n",
       "      <td>04</td>\n",
       "      <td>Aranjuez</td>\n",
       "      <td>Comuna 4</td>\n",
       "      <td>23</td>\n",
       "    </tr>\n",
       "    <tr>\n",
       "      <th>4</th>\n",
       "      <td>05</td>\n",
       "      <td>Castilla</td>\n",
       "      <td>Comuna 5</td>\n",
       "      <td>13</td>\n",
       "    </tr>\n",
       "  </tbody>\n",
       "</table>\n",
       "</div>"
      ],
      "text/plain": [
       "  CODIGO      NOMBRE IDENTIFICA  cuenta\n",
       "0     01     Popular   Comuna 1      13\n",
       "1     02  Santa Cruz   Comuna 2       2\n",
       "2     03    Manrique   Comuna 3       5\n",
       "3     04    Aranjuez   Comuna 4      23\n",
       "4     05    Castilla   Comuna 5      13"
      ]
     },
     "execution_count": 3,
     "metadata": {},
     "output_type": "execute_result"
    }
   ],
   "source": [
    "df.head()"
   ]
  },
  {
   "cell_type": "code",
   "execution_count": 4,
   "metadata": {},
   "outputs": [
    {
     "data": {
      "text/plain": [
       "'output/Medellin.html'"
      ]
     },
     "execution_count": 4,
     "metadata": {},
     "output_type": "execute_result"
    }
   ],
   "source": [
    "fig = px.choropleth(df, geojson=geoJSON, color=\"cuenta\",\n",
    "                    locations=\"NOMBRE\", featureidkey=\"properties.NOMBRE\",\n",
    "                    projection=\"mercator\",scope=\"south america\",color_continuous_scale=px.colors.sequential.Blues,\n",
    "                    range_color = [0,30]\n",
    "                )\n",
    "fig.update_geos(fitbounds=\"locations\", visible=False, showcountries=True, countrycolor=\"Black\",\n",
    "    showsubunits=True)\n",
    "fig.update_layout(\n",
    "    font=dict(\n",
    "        family=\"Courier New, monospace\",\n",
    "        size=25,\n",
    "        color=\"#7f7f7f\"\n",
    "    )\n",
    ")\n",
    "plotly.offline.plot(fig, filename='output/Medellin.html')"
   ]
  },
  {
   "cell_type": "code",
   "execution_count": null,
   "metadata": {},
   "outputs": [],
   "source": []
  }
 ],
 "metadata": {
  "kernelspec": {
   "display_name": "Python 3",
   "language": "python",
   "name": "python3"
  },
  "language_info": {
   "codemirror_mode": {
    "name": "ipython",
    "version": 3
   },
   "file_extension": ".py",
   "mimetype": "text/x-python",
   "name": "python",
   "nbconvert_exporter": "python",
   "pygments_lexer": "ipython3",
   "version": "3.8.2"
  }
 },
 "nbformat": 4,
 "nbformat_minor": 4
}
